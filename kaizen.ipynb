{
 "cells": [
  {
   "cell_type": "markdown",
   "metadata": {},
   "source": [
    "# Array Problems"
   ]
  },
  {
   "cell_type": "markdown",
   "metadata": {},
   "source": [
    "#### Anagram!! determine if a string is a anagram of another\n",
    "\n",
    "---> \"public relations\" anangram of \"crap built on lies\"\n",
    "\n",
    "---> \"clint eastwood\" anagram of \"old west action\""
   ]
  },
  {
   "cell_type": "code",
   "execution_count": 8,
   "metadata": {},
   "outputs": [
    {
     "data": {
      "text/plain": [
       "['foo', 'bar,rab', 'rab', 'gtrea,great', 'baz', 'great']"
      ]
     },
     "execution_count": 8,
     "metadata": {},
     "output_type": "execute_result"
    }
   ],
   "source": [
    "def anagram(strA, strB):\n",
    "    strA = strA.replace(' ','').lower()\n",
    "    strB = strB.replace(' ', '').lower()\n",
    "    a = list(strA)\n",
    "    b = list(strB)\n",
    "    if len(a) != len(b):\n",
    "        return False\n",
    "    res = []\n",
    "    for ch in a:\n",
    "        res.append(ch)\n",
    "    for ch in b:\n",
    "        if ch not in res:\n",
    "            return False\n",
    "        res.remove(ch)\n",
    "    return len(res) == 0\n",
    "\n",
    "\n",
    "def do(a):\n",
    "    result = []\n",
    "    for i, stuff in enumerate(a):\n",
    "        j = i + 1\n",
    "        anagramFound = False\n",
    "        for j in range(j, len(a)):\n",
    "            if anagram(stuff, a[j]):\n",
    "                l = stuff + \",\" + a[j]\n",
    "                result.append(l)\n",
    "                anagramFound = True\n",
    "        if not anagramFound:\n",
    "            result.append(stuff)\n",
    "        \n",
    "    return result\n",
    "\n",
    "a = ['foo' , 'bar', 'rab', 'gtrea' , 'baz' , 'great']\n",
    "\n",
    "do(a)\n",
    "\n",
    "# print anagram(\"clint eastwood\", \"old west action\")\n",
    "# print anagram(\"public relations\", \"crap built on lies\")\n",
    "# print anagram(\"public relations\", \"crap build on lies\")\n",
    "# print anagram('go go go','gggooo') # TRUE\n",
    "# print anagram('aabbcc','aabbc') # FALSE\n",
    "\n",
    "\n"
   ]
  },
  {
   "cell_type": "markdown",
   "metadata": {},
   "source": [
    "##### Given an integer array, output all the unique pairs that sum up to a specific value k.\n",
    "\n",
    "So the input:\n",
    "\n",
    "pair_sum([1,3,2,2],4)\n",
    "\n",
    "would return 2 pairs:\n",
    "\n",
    " (1,3)\n",
    " (2,2)\n"
   ]
  },
  {
   "cell_type": "code",
   "execution_count": 44,
   "metadata": {},
   "outputs": [
    {
     "data": {
      "text/plain": [
       "{(1, 3), (2, 2)}"
      ]
     },
     "execution_count": 44,
     "metadata": {},
     "output_type": "execute_result"
    }
   ],
   "source": [
    "def pair_sum(a,k):\n",
    "    \n",
    "    if len(a) < 2:\n",
    "        return\n",
    "    \n",
    "    seen = set()\n",
    "    output = set()\n",
    "    \n",
    "    for num in a:\n",
    "        target = k - num\n",
    "        if target not in seen:\n",
    "            seen.add(num)\n",
    "        else:\n",
    "            output.add( (min(num, target), max(num, target)) )\n",
    "    return output\n",
    "\n",
    "pair_sum([1,3,2,2],4)"
   ]
  },
  {
   "cell_type": "markdown",
   "metadata": {},
   "source": [
    "##### Given an array of integers (positive and negative) find the largest continuous sum.\n",
    "\n",
    "large_cont_sum([1,2,-1,3,4,10,10,-10,-1]) \n",
    "\n",
    "--> 29"
   ]
  },
  {
   "cell_type": "code",
   "execution_count": 1,
   "metadata": {},
   "outputs": [
    {
     "data": {
      "text/plain": [
       "29"
      ]
     },
     "execution_count": 1,
     "metadata": {},
     "output_type": "execute_result"
    }
   ],
   "source": [
    "## Also known as kadan's algorithm\n",
    "def mssl(l):\n",
    "    best = cur = 0\n",
    "    for i in l:\n",
    "        cur = max(cur + i, 0)\n",
    "        best = max(best, cur)\n",
    "    return best\n",
    "\n",
    "mssl([1,2,-1,3,4,10,10,-10,-1])"
   ]
  },
  {
   "cell_type": "markdown",
   "metadata": {},
   "source": [
    "#### Given a string of words return the reverse of that string\n",
    "\n",
    "for example \n",
    "\n",
    "Given:\n",
    "    'This is the best'\n",
    "\n",
    "Return:\n",
    "    'best the is This'"
   ]
  },
  {
   "cell_type": "code",
   "execution_count": 10,
   "metadata": {},
   "outputs": [
    {
     "data": {
      "text/plain": [
       "'best the is This'"
      ]
     },
     "execution_count": 10,
     "metadata": {},
     "output_type": "execute_result"
    }
   ],
   "source": [
    "# python snake way ;)\n",
    "def reverse(s):\n",
    "    a = s.split(' ')\n",
    "    return \" \".join(a[::-1])\n",
    "    \n",
    "reverse('This is the best')"
   ]
  },
  {
   "cell_type": "markdown",
   "metadata": {},
   "source": [
    "# String Compression\n",
    "\n",
    "## Problem\n",
    "\n",
    "Given a string in the form 'AAAABBBBCCCCCDDEEEE' compress it to become 'A4B4C5D2E4'. For this problem, you can falsely \"compress\" strings of single or double letters. For instance, it is okay for 'AAB' to return 'A2B1' even though this technically takes more space. \n",
    "\n",
    "The function should also be case sensitive, so that a string 'AAAaaa' returns 'A3a3'."
   ]
  },
  {
   "cell_type": "code",
   "execution_count": 43,
   "metadata": {
    "scrolled": true
   },
   "outputs": [
    {
     "name": "stdout",
     "output_type": "stream",
     "text": [
      "A5B4C4\n",
      "A2B2C2\n",
      "A3B1C2D5\n"
     ]
    }
   ],
   "source": [
    "def compress(s):\n",
    "    a = [0] * 255\n",
    "    result = ''\n",
    "    for c in s:\n",
    "        a[ord(c)] = a[ord(c)] + 1\n",
    "    \n",
    "    for i, stuff in enumerate(a):\n",
    "        if stuff > 0:\n",
    "            result = result +  chr(i) + str(stuff)\n",
    "    \n",
    "    return result\n",
    "\n",
    "\n",
    "print compress('AAAAABBBBCCCC')\n",
    "print compress('AABBCC')\n",
    "print compress('AAABCCDDDDD')"
   ]
  },
  {
   "cell_type": "markdown",
   "metadata": {},
   "source": [
    "# Unique Characters in String\n",
    "\n",
    "## Problem\n",
    "Given a string,determine if it is compreised of all unique characters. For example, the string 'abcde' has all unique characters and should return True. The string 'aabcde' contains duplicate characters and should return false."
   ]
  },
  {
   "cell_type": "code",
   "execution_count": 1,
   "metadata": {},
   "outputs": [],
   "source": [
    "def uni_char2(s):\n",
    "    chars = set()\n",
    "    for let in s:\n",
    "        # Check if in set\n",
    "        if let in chars:\n",
    "            return False\n",
    "        else:\n",
    "            #Add it to the set\n",
    "            chars.add(let)\n",
    "    return True"
   ]
  },
  {
   "cell_type": "code",
   "execution_count": null,
   "metadata": {},
   "outputs": [],
   "source": []
  }
 ],
 "metadata": {
  "kernelspec": {
   "display_name": "Python 2",
   "language": "python",
   "name": "python2"
  },
  "language_info": {
   "codemirror_mode": {
    "name": "ipython",
    "version": 2
   },
   "file_extension": ".py",
   "mimetype": "text/x-python",
   "name": "python",
   "nbconvert_exporter": "python",
   "pygments_lexer": "ipython2",
   "version": "2.7.14"
  }
 },
 "nbformat": 4,
 "nbformat_minor": 2
}
