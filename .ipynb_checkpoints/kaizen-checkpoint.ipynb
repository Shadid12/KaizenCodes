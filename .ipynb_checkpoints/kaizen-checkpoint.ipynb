{
 "cells": [
  {
   "cell_type": "code",
   "execution_count": 4,
   "metadata": {},
   "outputs": [],
   "source": [
    "#Array Problems"
   ]
  },
  {
   "cell_type": "code",
   "execution_count": 6,
   "metadata": {},
   "outputs": [],
   "source": [
    "# Anagram"
   ]
  },
  {
   "cell_type": "code",
   "execution_count": 8,
   "metadata": {},
   "outputs": [],
   "source": [
    "# ---> \"public relations\" anangram of \"craps build on lies\"\n",
    "# ---> \"clint eastwood\" anagram of \"old west action\""
   ]
  },
  {
   "cell_type": "code",
   "execution_count": 20,
   "metadata": {},
   "outputs": [
    {
     "data": {
      "text/plain": [
       "False"
      ]
     },
     "execution_count": 20,
     "metadata": {},
     "output_type": "execute_result"
    }
   ],
   "source": [
    "def anagram(strA, strB):\n",
    "    strA = strA.replace(' ','')\n",
    "    strB = strB.replace(' ', '')\n",
    "    a = list(strA)\n",
    "    b = list(strB)\n",
    "    if len(a) != len(b):\n",
    "        return False\n",
    "    res = []\n",
    "    for ch in a:\n",
    "        res.append(ch)\n",
    "    for ch in b:\n",
    "        if ch not in res:\n",
    "            return False\n",
    "        res.remove(ch)\n",
    "    print res\n",
    "    \n",
    "anagram(\"public relations\", \"crap build on lies\")"
   ]
  },
  {
   "cell_type": "code",
   "execution_count": null,
   "metadata": {},
   "outputs": [],
   "source": []
  }
 ],
 "metadata": {
  "kernelspec": {
   "display_name": "Python 2",
   "language": "python",
   "name": "python2"
  },
  "language_info": {
   "codemirror_mode": {
    "name": "ipython",
    "version": 2
   },
   "file_extension": ".py",
   "mimetype": "text/x-python",
   "name": "python",
   "nbconvert_exporter": "python",
   "pygments_lexer": "ipython2",
   "version": "2.7.14"
  }
 },
 "nbformat": 4,
 "nbformat_minor": 2
}
